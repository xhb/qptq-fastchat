{
  "nbformat": 4,
  "nbformat_minor": 0,
  "metadata": {
    "colab": {
      "provenance": [],
      "gpuType": "T4"
    },
    "kernelspec": {
      "name": "python3",
      "display_name": "Python 3"
    },
    "language_info": {
      "name": "python"
    },
    "accelerator": "GPU",
    "gpuClass": "standard"
  },
  "cells": [
    {
      "cell_type": "markdown",
      "source": [
        "## 使用vits模拟声音做中文TTS"
      ],
      "metadata": {
        "id": "6XSP-b2b-hy9"
      }
    },
    {
      "cell_type": "code",
      "execution_count": 1,
      "metadata": {
        "colab": {
          "base_uri": "https://localhost:8080/"
        },
        "id": "6LOJ8673-b9d",
        "outputId": "50d9da1a-d6dc-4074-dc5e-97940266d50d"
      },
      "outputs": [
        {
          "output_type": "stream",
          "name": "stdout",
          "text": [
            "Cloning into 'vits_tts_zh'...\n",
            "remote: Enumerating objects: 7, done.\u001b[K\n",
            "remote: Counting objects: 100% (7/7), done.\u001b[K\n",
            "remote: Compressing objects: 100% (6/6), done.\u001b[K\n",
            "remote: Total 7 (delta 0), reused 7 (delta 0), pack-reused 0\u001b[K\n",
            "Unpacking objects: 100% (7/7), 4.44 KiB | 4.44 MiB/s, done.\n",
            "Submodule 'vits' (https://github.com/zixiiu/vits) registered for path 'vits'\n",
            "Cloning into '/content/vits_tts_zh/vits'...\n",
            "remote: Enumerating objects: 633, done.        \n",
            "remote: Counting objects: 100% (6/6), done.        \n",
            "remote: Compressing objects: 100% (6/6), done.        \n",
            "remote: Total 633 (delta 0), reused 2 (delta 0), pack-reused 627        \n",
            "Receiving objects: 100% (633/633), 31.30 MiB | 11.05 MiB/s, done.\n",
            "Resolving deltas: 100% (300/300), done.\n",
            "Submodule path 'vits': checked out 'edc91484e8abf60a2a689f36110f983b55f0bf8b'\n"
          ]
        }
      ],
      "source": [
        "!git clone https://github.com/xhb/vits_tts_zh.git --recursive"
      ]
    },
    {
      "cell_type": "markdown",
      "source": [
        "## 下载vits模型"
      ],
      "metadata": {
        "id": "HrgB-tk__Fwn"
      }
    },
    {
      "cell_type": "code",
      "source": [
        "%cd /content/vits_tts_zh/"
      ],
      "metadata": {
        "colab": {
          "base_uri": "https://localhost:8080/"
        },
        "id": "ZugyvydhLkIb",
        "outputId": "c1a29296-b21d-4f19-c8ac-101550968163"
      },
      "execution_count": 2,
      "outputs": [
        {
          "output_type": "stream",
          "name": "stdout",
          "text": [
            "/content/vits_tts_zh\n"
          ]
        }
      ]
    },
    {
      "cell_type": "code",
      "source": [
        "!python download-model.py xiier/vits_zh"
      ],
      "metadata": {
        "colab": {
          "base_uri": "https://localhost:8080/"
        },
        "id": "Rx_h72s7_J3q",
        "outputId": "b14e0542-e30b-427b-a034-dc4b095cba18"
      },
      "execution_count": 3,
      "outputs": [
        {
          "output_type": "stream",
          "name": "stdout",
          "text": [
            "[{'type': 'file', 'oid': 'c7d9f3332a950355d5a77d85000f05e6f45435ea', 'size': 1477, 'path': '.gitattributes'}, {'type': 'file', 'oid': '86b0a7ce4ee40c498d524daff28679cbcf7ee233', 'size': 211, 'path': 'README.md'}, {'type': 'file', 'oid': '2a96295bd7b87d42b778a2cce12ff0536cb5bc03', 'size': 1830, 'path': 'miko.json'}, {'type': 'file', 'oid': '57c235de63c577b91c8710d417afd308bb9d68c8', 'size': 449983387, 'lfs': {'oid': 'f71962de5a05a61fc51d9f12af981d3d4912701130eff6d832a9d41df8f92885', 'size': 449983387, 'pointerSize': 134}, 'path': 'miko_139k.pth'}, {'type': 'file', 'oid': '4783c98b1b12a970e1cb03af7a1d217329cdeb63', 'size': 449979566, 'lfs': {'oid': 'd9cd73817c59344a24426d0d4a9c2804f1e7d28bb3f462b3417127d10222cb66', 'size': 449979566, 'pointerSize': 134}, 'path': 'miko_90k.pth'}, {'type': 'file', 'oid': '2a8b4126d689aa1aef0a16b3f69766fad5139909', 'size': 1842, 'path': 'paimon6k.json'}, {'type': 'file', 'oid': 'bf808fe6ce126b13c7d77d73ad2ac979b3ff5d6e', 'size': 449983387, 'lfs': {'oid': 'b282f7fed04b92186ae8ed1956496e4492d1ee07d84870143c6e7fd3b82d5cb6', 'size': 449983387, 'pointerSize': 134}, 'path': 'paimon6k_390k.pth'}, {'type': 'file', 'oid': 'e69de29bb2d1d6434b8b29ae775ad8c2e48c5391', 'size': 0, 'path': 'put_vits_model_here'}, {'type': 'file', 'oid': 'c8254a9464cc78d6c70a85ffc48c20d513b632f7', 'size': 1837, 'path': 'yunfeimix2.json'}, {'type': 'file', 'oid': '2b9f9f9bdd76d1e2d9dd7824e803796896902246', 'size': 449979566, 'lfs': {'oid': '3b2a080ba1d12c3acfe1741a1bf94458fc29f109bfd9432ad3a324a761460871', 'size': 449979566, 'pointerSize': 134}, 'path': 'yunfeimix2_53k.pth'}, {'type': 'file', 'oid': '389ea782385acd79141d94c63a281c0d94333d1c', 'size': 1828, 'path': 'zhongli.json'}, {'type': 'file', 'oid': 'b9240440c14ca683dc165c7f3e3a84771f751970', 'size': 449979566, 'lfs': {'oid': 'c27773c1626506245dc0479e1b2973d7373ccddfce035690e79482317a35334b', 'size': 449979566, 'pointerSize': 134}, 'path': 'zhongli_29k.pth'}, {'type': 'file', 'oid': '99144d02f5b548974b8a62dfc299860472f195b4', 'size': 449979566, 'lfs': {'oid': '9a941b4d273e8fb6e4327fc7b7978908cacb2d91ced11d72e80be763806507c6', 'size': 449979566, 'pointerSize': 134}, 'path': 'zhongli_44k.pth'}]\n",
            "Downloading the model to models/xiier_vits_zh\n",
            "100% 211/211 [00:00<00:00, 253kiB/s]\n",
            "100% 1.83k/1.83k [00:00<00:00, 2.04MiB/s]\n",
            "100% 450M/450M [00:11<00:00, 40.0MiB/s]\n",
            "100% 450M/450M [00:11<00:00, 39.7MiB/s]\n",
            "100% 1.84k/1.84k [00:00<00:00, 1.97MiB/s]\n",
            "100% 450M/450M [00:11<00:00, 39.4MiB/s]\n",
            "100% 1.84k/1.84k [00:00<00:00, 1.67MiB/s]\n",
            "100% 450M/450M [00:11<00:00, 38.8MiB/s]\n",
            "100% 1.83k/1.83k [00:00<00:00, 1.83MiB/s]\n",
            "100% 450M/450M [00:15<00:00, 29.8MiB/s]\n",
            "100% 450M/450M [00:11<00:00, 39.0MiB/s]\n"
          ]
        }
      ]
    },
    {
      "cell_type": "markdown",
      "source": [
        "### 安装依赖库"
      ],
      "metadata": {
        "id": "isZf_YU9Aax2"
      }
    },
    {
      "cell_type": "code",
      "source": [
        "!pip install -r ./vits/requirements.txt"
      ],
      "metadata": {
        "colab": {
          "base_uri": "https://localhost:8080/",
          "height": 1000
        },
        "id": "I03sLguRGTro",
        "outputId": "91f37f02-61ec-4f18-a07a-e2e92e023893"
      },
      "execution_count": 4,
      "outputs": [
        {
          "output_type": "stream",
          "name": "stdout",
          "text": [
            "Looking in indexes: https://pypi.org/simple, https://us-python.pkg.dev/colab-wheels/public/simple/\n",
            "Collecting Cython==0.29.21 (from -r ./vits/requirements.txt (line 1))\n",
            "  Downloading Cython-0.29.21-py2.py3-none-any.whl (974 kB)\n",
            "\u001b[2K     \u001b[90m━━━━━━━━━━━━━━━━━━━━━━━━━━━━━━━━━━━━━━\u001b[0m \u001b[32m974.2/974.2 kB\u001b[0m \u001b[31m34.1 MB/s\u001b[0m eta \u001b[36m0:00:00\u001b[0m\n",
            "\u001b[?25hCollecting librosa==0.8.0 (from -r ./vits/requirements.txt (line 2))\n",
            "  Downloading librosa-0.8.0.tar.gz (183 kB)\n",
            "\u001b[2K     \u001b[90m━━━━━━━━━━━━━━━━━━━━━━━━━━━━━━━━━━━━━━\u001b[0m \u001b[32m183.9/183.9 kB\u001b[0m \u001b[31m25.4 MB/s\u001b[0m eta \u001b[36m0:00:00\u001b[0m\n",
            "\u001b[?25h  Preparing metadata (setup.py) ... \u001b[?25l\u001b[?25hdone\n",
            "Requirement already satisfied: matplotlib in /usr/local/lib/python3.10/dist-packages (from -r ./vits/requirements.txt (line 3)) (3.7.1)\n",
            "Requirement already satisfied: numpy in /usr/local/lib/python3.10/dist-packages (from -r ./vits/requirements.txt (line 4)) (1.22.4)\n",
            "Requirement already satisfied: scipy in /usr/local/lib/python3.10/dist-packages (from -r ./vits/requirements.txt (line 5)) (1.10.1)\n",
            "Collecting unidecode==1.3.4 (from -r ./vits/requirements.txt (line 6))\n",
            "  Downloading Unidecode-1.3.4-py3-none-any.whl (235 kB)\n",
            "\u001b[2K     \u001b[90m━━━━━━━━━━━━━━━━━━━━━━━━━━━━━━━━━━━━━━\u001b[0m \u001b[32m235.9/235.9 kB\u001b[0m \u001b[31m29.8 MB/s\u001b[0m eta \u001b[36m0:00:00\u001b[0m\n",
            "\u001b[?25hCollecting jamo==0.4.1 (from -r ./vits/requirements.txt (line 7))\n",
            "  Downloading jamo-0.4.1-py3-none-any.whl (9.5 kB)\n",
            "Collecting pypinyin==0.44.0 (from -r ./vits/requirements.txt (line 8))\n",
            "  Downloading pypinyin-0.44.0-py2.py3-none-any.whl (1.3 MB)\n",
            "\u001b[2K     \u001b[90m━━━━━━━━━━━━━━━━━━━━━━━━━━━━━━━━━━━━━━━━\u001b[0m \u001b[32m1.3/1.3 MB\u001b[0m \u001b[31m73.8 MB/s\u001b[0m eta \u001b[36m0:00:00\u001b[0m\n",
            "\u001b[?25hRequirement already satisfied: jieba==0.42.1 in /usr/local/lib/python3.10/dist-packages (from -r ./vits/requirements.txt (line 9)) (0.42.1)\n",
            "Collecting protobuf==3.19.0 (from -r ./vits/requirements.txt (line 10))\n",
            "  Downloading protobuf-3.19.0-cp310-cp310-manylinux_2_17_x86_64.manylinux2014_x86_64.whl (1.1 MB)\n",
            "\u001b[2K     \u001b[90m━━━━━━━━━━━━━━━━━━━━━━━━━━━━━━━━━━━━━━━━\u001b[0m \u001b[32m1.1/1.1 MB\u001b[0m \u001b[31m72.2 MB/s\u001b[0m eta \u001b[36m0:00:00\u001b[0m\n",
            "\u001b[?25hCollecting cn2an==0.5.17 (from -r ./vits/requirements.txt (line 11))\n",
            "  Downloading cn2an-0.5.17-py3-none-any.whl (18 kB)\n",
            "Collecting inflect==6.0.0 (from -r ./vits/requirements.txt (line 12))\n",
            "  Downloading inflect-6.0.0-py3-none-any.whl (34 kB)\n",
            "Collecting eng_to_ipa==0.0.2 (from -r ./vits/requirements.txt (line 13))\n",
            "  Downloading eng_to_ipa-0.0.2.tar.gz (2.8 MB)\n",
            "\u001b[2K     \u001b[90m━━━━━━━━━━━━━━━━━━━━━━━━━━━━━━━━━━━━━━━━\u001b[0m \u001b[32m2.8/2.8 MB\u001b[0m \u001b[31m82.1 MB/s\u001b[0m eta \u001b[36m0:00:00\u001b[0m\n",
            "\u001b[?25h  Preparing metadata (setup.py) ... \u001b[?25l\u001b[?25hdone\n",
            "Collecting ko_pron==1.3 (from -r ./vits/requirements.txt (line 14))\n",
            "  Downloading ko_pron-1.3-py3-none-any.whl (12 kB)\n",
            "Collecting indic_transliteration==2.3.37 (from -r ./vits/requirements.txt (line 15))\n",
            "  Downloading indic_transliteration-2.3.37-py3-none-any.whl (137 kB)\n",
            "\u001b[2K     \u001b[90m━━━━━━━━━━━━━━━━━━━━━━━━━━━━━━━━━━━━━━\u001b[0m \u001b[32m137.5/137.5 kB\u001b[0m \u001b[31m20.7 MB/s\u001b[0m eta \u001b[36m0:00:00\u001b[0m\n",
            "\u001b[?25hCollecting num_thai==0.0.5 (from -r ./vits/requirements.txt (line 16))\n",
            "  Downloading num_thai-0.0.5-py3-none-any.whl (4.8 kB)\n",
            "Collecting opencc==1.1.1 (from -r ./vits/requirements.txt (line 17))\n",
            "  Downloading OpenCC-1.1.1-py2.py3-none-manylinux1_x86_64.whl (1.3 MB)\n",
            "\u001b[2K     \u001b[90m━━━━━━━━━━━━━━━━━━━━━━━━━━━━━━━━━━━━━━━━\u001b[0m \u001b[32m1.3/1.3 MB\u001b[0m \u001b[31m80.8 MB/s\u001b[0m eta \u001b[36m0:00:00\u001b[0m\n",
            "\u001b[?25hRequirement already satisfied: audioread>=2.0.0 in /usr/local/lib/python3.10/dist-packages (from librosa==0.8.0->-r ./vits/requirements.txt (line 2)) (3.0.0)\n",
            "Requirement already satisfied: scikit-learn!=0.19.0,>=0.14.0 in /usr/local/lib/python3.10/dist-packages (from librosa==0.8.0->-r ./vits/requirements.txt (line 2)) (1.2.2)\n",
            "Requirement already satisfied: joblib>=0.14 in /usr/local/lib/python3.10/dist-packages (from librosa==0.8.0->-r ./vits/requirements.txt (line 2)) (1.2.0)\n",
            "Requirement already satisfied: decorator>=3.0.0 in /usr/local/lib/python3.10/dist-packages (from librosa==0.8.0->-r ./vits/requirements.txt (line 2)) (4.4.2)\n",
            "Collecting resampy>=0.2.2 (from librosa==0.8.0->-r ./vits/requirements.txt (line 2))\n",
            "  Downloading resampy-0.4.2-py3-none-any.whl (3.1 MB)\n",
            "\u001b[2K     \u001b[90m━━━━━━━━━━━━━━━━━━━━━━━━━━━━━━━━━━━━━━━━\u001b[0m \u001b[32m3.1/3.1 MB\u001b[0m \u001b[31m43.1 MB/s\u001b[0m eta \u001b[36m0:00:00\u001b[0m\n",
            "\u001b[?25hRequirement already satisfied: numba>=0.43.0 in /usr/local/lib/python3.10/dist-packages (from librosa==0.8.0->-r ./vits/requirements.txt (line 2)) (0.56.4)\n",
            "Requirement already satisfied: soundfile>=0.9.0 in /usr/local/lib/python3.10/dist-packages (from librosa==0.8.0->-r ./vits/requirements.txt (line 2)) (0.12.1)\n",
            "Requirement already satisfied: pooch>=1.0 in /usr/local/lib/python3.10/dist-packages (from librosa==0.8.0->-r ./vits/requirements.txt (line 2)) (1.6.0)\n",
            "Requirement already satisfied: setuptools>=47.3.1 in /usr/local/lib/python3.10/dist-packages (from cn2an==0.5.17->-r ./vits/requirements.txt (line 11)) (67.7.2)\n",
            "Collecting ruamel.yaml>=0.16.0 (from cn2an==0.5.17->-r ./vits/requirements.txt (line 11))\n",
            "  Downloading ruamel.yaml-0.17.27-py3-none-any.whl (109 kB)\n",
            "\u001b[2K     \u001b[90m━━━━━━━━━━━━━━━━━━━━━━━━━━━━━━━━━━━━━━\u001b[0m \u001b[32m109.5/109.5 kB\u001b[0m \u001b[31m15.9 MB/s\u001b[0m eta \u001b[36m0:00:00\u001b[0m\n",
            "\u001b[?25hCollecting proces>=0.1.0 (from cn2an==0.5.17->-r ./vits/requirements.txt (line 11))\n",
            "  Downloading proces-0.1.4-py3-none-any.whl (24 kB)\n",
            "Requirement already satisfied: pydantic in /usr/local/lib/python3.10/dist-packages (from inflect==6.0.0->-r ./vits/requirements.txt (line 12)) (1.10.7)\n",
            "Collecting backports.functools-lru-cache (from indic_transliteration==2.3.37->-r ./vits/requirements.txt (line 15))\n",
            "  Downloading backports.functools_lru_cache-1.6.4-py2.py3-none-any.whl (5.9 kB)\n",
            "Requirement already satisfied: regex in /usr/local/lib/python3.10/dist-packages (from indic_transliteration==2.3.37->-r ./vits/requirements.txt (line 15)) (2022.10.31)\n",
            "Requirement already satisfied: typer in /usr/local/lib/python3.10/dist-packages (from indic_transliteration==2.3.37->-r ./vits/requirements.txt (line 15)) (0.7.0)\n",
            "Requirement already satisfied: toml in /usr/local/lib/python3.10/dist-packages (from indic_transliteration==2.3.37->-r ./vits/requirements.txt (line 15)) (0.10.2)\n",
            "Collecting roman (from indic_transliteration==2.3.37->-r ./vits/requirements.txt (line 15))\n",
            "  Downloading roman-4.0-py3-none-any.whl (7.8 kB)\n",
            "Requirement already satisfied: contourpy>=1.0.1 in /usr/local/lib/python3.10/dist-packages (from matplotlib->-r ./vits/requirements.txt (line 3)) (1.0.7)\n",
            "Requirement already satisfied: cycler>=0.10 in /usr/local/lib/python3.10/dist-packages (from matplotlib->-r ./vits/requirements.txt (line 3)) (0.11.0)\n",
            "Requirement already satisfied: fonttools>=4.22.0 in /usr/local/lib/python3.10/dist-packages (from matplotlib->-r ./vits/requirements.txt (line 3)) (4.39.3)\n",
            "Requirement already satisfied: kiwisolver>=1.0.1 in /usr/local/lib/python3.10/dist-packages (from matplotlib->-r ./vits/requirements.txt (line 3)) (1.4.4)\n",
            "Requirement already satisfied: packaging>=20.0 in /usr/local/lib/python3.10/dist-packages (from matplotlib->-r ./vits/requirements.txt (line 3)) (23.1)\n",
            "Requirement already satisfied: pillow>=6.2.0 in /usr/local/lib/python3.10/dist-packages (from matplotlib->-r ./vits/requirements.txt (line 3)) (8.4.0)\n",
            "Requirement already satisfied: pyparsing>=2.3.1 in /usr/local/lib/python3.10/dist-packages (from matplotlib->-r ./vits/requirements.txt (line 3)) (3.0.9)\n",
            "Requirement already satisfied: python-dateutil>=2.7 in /usr/local/lib/python3.10/dist-packages (from matplotlib->-r ./vits/requirements.txt (line 3)) (2.8.2)\n",
            "Requirement already satisfied: llvmlite<0.40,>=0.39.0dev0 in /usr/local/lib/python3.10/dist-packages (from numba>=0.43.0->librosa==0.8.0->-r ./vits/requirements.txt (line 2)) (0.39.1)\n",
            "Requirement already satisfied: appdirs>=1.3.0 in /usr/local/lib/python3.10/dist-packages (from pooch>=1.0->librosa==0.8.0->-r ./vits/requirements.txt (line 2)) (1.4.4)\n",
            "Requirement already satisfied: requests>=2.19.0 in /usr/local/lib/python3.10/dist-packages (from pooch>=1.0->librosa==0.8.0->-r ./vits/requirements.txt (line 2)) (2.27.1)\n",
            "Requirement already satisfied: six>=1.5 in /usr/local/lib/python3.10/dist-packages (from python-dateutil>=2.7->matplotlib->-r ./vits/requirements.txt (line 3)) (1.16.0)\n",
            "Collecting ruamel.yaml.clib>=0.2.7 (from ruamel.yaml>=0.16.0->cn2an==0.5.17->-r ./vits/requirements.txt (line 11))\n",
            "  Downloading ruamel.yaml.clib-0.2.7-cp310-cp310-manylinux_2_17_x86_64.manylinux2014_x86_64.manylinux_2_24_x86_64.whl (485 kB)\n",
            "\u001b[2K     \u001b[90m━━━━━━━━━━━━━━━━━━━━━━━━━━━━━━━━━━━━━━\u001b[0m \u001b[32m485.6/485.6 kB\u001b[0m \u001b[31m51.4 MB/s\u001b[0m eta \u001b[36m0:00:00\u001b[0m\n",
            "\u001b[?25hRequirement already satisfied: threadpoolctl>=2.0.0 in /usr/local/lib/python3.10/dist-packages (from scikit-learn!=0.19.0,>=0.14.0->librosa==0.8.0->-r ./vits/requirements.txt (line 2)) (3.1.0)\n",
            "Requirement already satisfied: cffi>=1.0 in /usr/local/lib/python3.10/dist-packages (from soundfile>=0.9.0->librosa==0.8.0->-r ./vits/requirements.txt (line 2)) (1.15.1)\n",
            "Requirement already satisfied: typing-extensions>=4.2.0 in /usr/local/lib/python3.10/dist-packages (from pydantic->inflect==6.0.0->-r ./vits/requirements.txt (line 12)) (4.5.0)\n",
            "Requirement already satisfied: click<9.0.0,>=7.1.1 in /usr/local/lib/python3.10/dist-packages (from typer->indic_transliteration==2.3.37->-r ./vits/requirements.txt (line 15)) (8.1.3)\n",
            "Requirement already satisfied: pycparser in /usr/local/lib/python3.10/dist-packages (from cffi>=1.0->soundfile>=0.9.0->librosa==0.8.0->-r ./vits/requirements.txt (line 2)) (2.21)\n",
            "Requirement already satisfied: urllib3<1.27,>=1.21.1 in /usr/local/lib/python3.10/dist-packages (from requests>=2.19.0->pooch>=1.0->librosa==0.8.0->-r ./vits/requirements.txt (line 2)) (1.26.15)\n",
            "Requirement already satisfied: certifi>=2017.4.17 in /usr/local/lib/python3.10/dist-packages (from requests>=2.19.0->pooch>=1.0->librosa==0.8.0->-r ./vits/requirements.txt (line 2)) (2022.12.7)\n",
            "Requirement already satisfied: charset-normalizer~=2.0.0 in /usr/local/lib/python3.10/dist-packages (from requests>=2.19.0->pooch>=1.0->librosa==0.8.0->-r ./vits/requirements.txt (line 2)) (2.0.12)\n",
            "Requirement already satisfied: idna<4,>=2.5 in /usr/local/lib/python3.10/dist-packages (from requests>=2.19.0->pooch>=1.0->librosa==0.8.0->-r ./vits/requirements.txt (line 2)) (3.4)\n",
            "Building wheels for collected packages: librosa, eng_to_ipa\n",
            "  Building wheel for librosa (setup.py) ... \u001b[?25l\u001b[?25hdone\n",
            "  Created wheel for librosa: filename=librosa-0.8.0-py3-none-any.whl size=201378 sha256=54858173851ccef4d5ce2b110697119c94dca4d9b5c77235543384886333bcab\n",
            "  Stored in directory: /root/.cache/pip/wheels/bf/b7/85/2f8044306ccec014930aea23ad4852fca9e2584e21c6972bc6\n",
            "  Building wheel for eng_to_ipa (setup.py) ... \u001b[?25l\u001b[?25hdone\n",
            "  Created wheel for eng_to_ipa: filename=eng_to_ipa-0.0.2-py3-none-any.whl size=2822606 sha256=c22a290da62a80fb3a45afd82692ec16947b832473ba5e292e47f4c724f709d4\n",
            "  Stored in directory: /root/.cache/pip/wheels/5b/ab/07/fe6722f710d8ef8bd0ccb4eb689ef96f5552f3fc0c80c1aa9c\n",
            "Successfully built librosa eng_to_ipa\n",
            "Installing collected packages: opencc, ko_pron, jamo, eng_to_ipa, unidecode, ruamel.yaml.clib, roman, pypinyin, protobuf, proces, num_thai, Cython, backports.functools-lru-cache, ruamel.yaml, resampy, inflect, indic_transliteration, librosa, cn2an\n",
            "  Attempting uninstall: protobuf\n",
            "    Found existing installation: protobuf 3.20.3\n",
            "    Uninstalling protobuf-3.20.3:\n",
            "      Successfully uninstalled protobuf-3.20.3\n",
            "  Attempting uninstall: Cython\n",
            "    Found existing installation: Cython 0.29.34\n",
            "    Uninstalling Cython-0.29.34:\n",
            "      Successfully uninstalled Cython-0.29.34\n",
            "  Attempting uninstall: inflect\n",
            "    Found existing installation: inflect 6.0.4\n",
            "    Uninstalling inflect-6.0.4:\n",
            "      Successfully uninstalled inflect-6.0.4\n",
            "  Attempting uninstall: librosa\n",
            "    Found existing installation: librosa 0.10.0.post2\n",
            "    Uninstalling librosa-0.10.0.post2:\n",
            "      Successfully uninstalled librosa-0.10.0.post2\n",
            "\u001b[31mERROR: pip's dependency resolver does not currently take into account all the packages that are installed. This behaviour is the source of the following dependency conflicts.\n",
            "google-api-core 2.11.0 requires protobuf!=3.20.0,!=3.20.1,!=4.21.0,!=4.21.1,!=4.21.2,!=4.21.3,!=4.21.4,!=4.21.5,<5.0.0dev,>=3.19.5, but you have protobuf 3.19.0 which is incompatible.\n",
            "google-cloud-bigquery 3.9.0 requires protobuf!=3.20.0,!=3.20.1,!=4.21.0,!=4.21.1,!=4.21.2,!=4.21.3,!=4.21.4,!=4.21.5,<5.0.0dev,>=3.19.5, but you have protobuf 3.19.0 which is incompatible.\n",
            "google-cloud-bigquery-storage 2.19.1 requires protobuf!=3.20.0,!=3.20.1,!=4.21.0,!=4.21.1,!=4.21.2,!=4.21.3,!=4.21.4,!=4.21.5,<5.0.0dev,>=3.19.5, but you have protobuf 3.19.0 which is incompatible.\n",
            "google-cloud-datastore 2.15.1 requires protobuf!=3.20.0,!=3.20.1,!=4.21.0,!=4.21.1,!=4.21.2,!=4.21.3,!=4.21.4,!=4.21.5,<5.0.0dev,>=3.19.5, but you have protobuf 3.19.0 which is incompatible.\n",
            "google-cloud-firestore 2.11.0 requires protobuf!=3.20.0,!=3.20.1,!=4.21.0,!=4.21.1,!=4.21.2,!=4.21.3,!=4.21.4,!=4.21.5,<5.0.0dev,>=3.19.5, but you have protobuf 3.19.0 which is incompatible.\n",
            "google-cloud-language 2.9.1 requires protobuf!=3.20.0,!=3.20.1,!=4.21.0,!=4.21.1,!=4.21.2,!=4.21.3,!=4.21.4,!=4.21.5,<5.0.0dev,>=3.19.5, but you have protobuf 3.19.0 which is incompatible.\n",
            "google-cloud-translate 3.11.1 requires protobuf!=3.20.0,!=3.20.1,!=4.21.0,!=4.21.1,!=4.21.2,!=4.21.3,!=4.21.4,!=4.21.5,<5.0.0dev,>=3.19.5, but you have protobuf 3.19.0 which is incompatible.\n",
            "googleapis-common-protos 1.59.0 requires protobuf!=3.20.0,!=3.20.1,!=4.21.1,!=4.21.2,!=4.21.3,!=4.21.4,!=4.21.5,<5.0.0dev,>=3.19.5, but you have protobuf 3.19.0 which is incompatible.\n",
            "tensorboard 2.12.2 requires protobuf>=3.19.6, but you have protobuf 3.19.0 which is incompatible.\n",
            "tensorflow 2.12.0 requires protobuf!=4.21.0,!=4.21.1,!=4.21.2,!=4.21.3,!=4.21.4,!=4.21.5,<5.0.0dev,>=3.20.3, but you have protobuf 3.19.0 which is incompatible.\n",
            "tensorflow-datasets 4.9.2 requires protobuf>=3.20, but you have protobuf 3.19.0 which is incompatible.\n",
            "tensorflow-hub 0.13.0 requires protobuf>=3.19.6, but you have protobuf 3.19.0 which is incompatible.\n",
            "tensorflow-metadata 1.13.1 requires protobuf<5,>=3.20.3, but you have protobuf 3.19.0 which is incompatible.\u001b[0m\u001b[31m\n",
            "\u001b[0mSuccessfully installed Cython-0.29.21 backports.functools-lru-cache-1.6.4 cn2an-0.5.17 eng_to_ipa-0.0.2 indic_transliteration-2.3.37 inflect-6.0.0 jamo-0.4.1 ko_pron-1.3 librosa-0.8.0 num_thai-0.0.5 opencc-1.1.1 proces-0.1.4 protobuf-3.19.0 pypinyin-0.44.0 resampy-0.4.2 roman-4.0 ruamel.yaml-0.17.27 ruamel.yaml.clib-0.2.7 unidecode-1.3.4\n"
          ]
        },
        {
          "output_type": "display_data",
          "data": {
            "application/vnd.colab-display-data+json": {
              "pip_warning": {
                "packages": [
                  "google"
                ]
              }
            }
          },
          "metadata": {}
        }
      ]
    },
    {
      "cell_type": "markdown",
      "source": [
        "### 构建vits的monotonic_align动态库"
      ],
      "metadata": {
        "id": "TRIIV2KPL78d"
      }
    },
    {
      "cell_type": "code",
      "source": [
        "%cd /content/vits_tts_zh/vits/monotonic_align\n",
        "!mkdir monotonic_align\n",
        "!python setup.py build_ext --inplace"
      ],
      "metadata": {
        "colab": {
          "base_uri": "https://localhost:8080/"
        },
        "id": "vmbPg4geL6-O",
        "outputId": "99ea6eb6-1e90-45bd-a25d-60051aa9eadf"
      },
      "execution_count": 5,
      "outputs": [
        {
          "output_type": "stream",
          "name": "stdout",
          "text": [
            "/content/vits_tts_zh/vits/monotonic_align\n",
            "Compiling core.pyx because it changed.\n",
            "[1/1] Cythonizing core.pyx\n",
            "/usr/local/lib/python3.10/dist-packages/Cython/Compiler/Main.py:369: FutureWarning: Cython directive 'language_level' not set, using 2 for now (Py2). This will change in a later release! File: /content/vits_tts_zh/vits/monotonic_align/core.pyx\n",
            "  tree = Parsing.p_module(s, pxd, full_module_name)\n",
            "\u001b[01m\u001b[Kcore.c:\u001b[m\u001b[K In function ‘\u001b[01m\u001b[K__Pyx_InitGlobals\u001b[m\u001b[K’:\n",
            "\u001b[01m\u001b[Kcore.c:16766:1:\u001b[m\u001b[K \u001b[01;35m\u001b[Kwarning: \u001b[m\u001b[K‘\u001b[01m\u001b[KPyEval_InitThreads\u001b[m\u001b[K’ is deprecated [\u001b[01;35m\u001b[K-Wdeprecated-declarations\u001b[m\u001b[K]\n",
            "16766 | \u001b[01;35m\u001b[KPyEval_InitThreads\u001b[m\u001b[K();\n",
            "      | \u001b[01;35m\u001b[K^~~~~~~~~~~~~~~~~~\u001b[m\u001b[K\n",
            "In file included from \u001b[01m\u001b[K/usr/include/python3.10/Python.h:130\u001b[m\u001b[K,\n",
            "                 from \u001b[01m\u001b[Kcore.c:16\u001b[m\u001b[K:\n",
            "\u001b[01m\u001b[K/usr/include/python3.10/ceval.h:122:37:\u001b[m\u001b[K \u001b[01;36m\u001b[Knote: \u001b[m\u001b[Kdeclared here\n",
            "  122 | Py_DEPRECATED(3.9) PyAPI_FUNC(void) \u001b[01;36m\u001b[KPyEval_InitThreads\u001b[m\u001b[K(void);\n",
            "      |                                     \u001b[01;36m\u001b[K^~~~~~~~~~~~~~~~~~\u001b[m\u001b[K\n"
          ]
        }
      ]
    },
    {
      "cell_type": "code",
      "source": [
        "%cd /content/vits_tts_zh/"
      ],
      "metadata": {
        "colab": {
          "base_uri": "https://localhost:8080/"
        },
        "id": "xeLSg83ZMV0W",
        "outputId": "289c07ba-b26b-4d36-903e-bcaeddaa32c1"
      },
      "execution_count": 6,
      "outputs": [
        {
          "output_type": "stream",
          "name": "stdout",
          "text": [
            "/content/vits_tts_zh\n"
          ]
        }
      ]
    },
    {
      "cell_type": "markdown",
      "source": [
        "### 使用gradio构建测试界面"
      ],
      "metadata": {
        "id": "_hyaFyABAvpo"
      }
    },
    {
      "cell_type": "code",
      "source": [
        "!pip install -q gradio"
      ],
      "metadata": {
        "colab": {
          "base_uri": "https://localhost:8080/"
        },
        "id": "b0UavZtcAkyb",
        "outputId": "c04bdeef-42e0-4203-a66a-f37fe232e9d7"
      },
      "execution_count": 7,
      "outputs": [
        {
          "output_type": "stream",
          "name": "stdout",
          "text": [
            "\u001b[2K     \u001b[90m━━━━━━━━━━━━━━━━━━━━━━━━━━━━━━━━━━━━━━━━\u001b[0m \u001b[32m19.9/19.9 MB\u001b[0m \u001b[31m59.3 MB/s\u001b[0m eta \u001b[36m0:00:00\u001b[0m\n",
            "\u001b[2K     \u001b[90m━━━━━━━━━━━━━━━━━━━━━━━━━━━━━━━━━━━━━━━━\u001b[0m \u001b[32m1.0/1.0 MB\u001b[0m \u001b[31m65.9 MB/s\u001b[0m eta \u001b[36m0:00:00\u001b[0m\n",
            "\u001b[2K     \u001b[90m━━━━━━━━━━━━━━━━━━━━━━━━━━━━━━━━━━━━━━━\u001b[0m \u001b[32m57.0/57.0 kB\u001b[0m \u001b[31m830.0 kB/s\u001b[0m eta \u001b[36m0:00:00\u001b[0m\n",
            "\u001b[?25h  Preparing metadata (setup.py) ... \u001b[?25l\u001b[?25hdone\n",
            "\u001b[2K     \u001b[90m━━━━━━━━━━━━━━━━━━━━━━━━━━━━━━━━━━━━━━\u001b[0m \u001b[32m288.1/288.1 kB\u001b[0m \u001b[31m31.7 MB/s\u001b[0m eta \u001b[36m0:00:00\u001b[0m\n",
            "\u001b[2K     \u001b[90m━━━━━━━━━━━━━━━━━━━━━━━━━━━━━━━━━━━━━━━━\u001b[0m \u001b[32m75.4/75.4 kB\u001b[0m \u001b[31m9.7 MB/s\u001b[0m eta \u001b[36m0:00:00\u001b[0m\n",
            "\u001b[2K     \u001b[90m━━━━━━━━━━━━━━━━━━━━━━━━━━━━━━━━━━━━━━\u001b[0m \u001b[32m224.5/224.5 kB\u001b[0m \u001b[31m26.9 MB/s\u001b[0m eta \u001b[36m0:00:00\u001b[0m\n",
            "\u001b[2K     \u001b[90m━━━━━━━━━━━━━━━━━━━━━━━━━━━━━━━━━━━━━━━━\u001b[0m \u001b[32m50.5/50.5 kB\u001b[0m \u001b[31m6.3 MB/s\u001b[0m eta \u001b[36m0:00:00\u001b[0m\n",
            "\u001b[2K     \u001b[90m━━━━━━━━━━━━━━━━━━━━━━━━━━━━━━━━━━━━━━\u001b[0m \u001b[32m135.8/135.8 kB\u001b[0m \u001b[31m17.7 MB/s\u001b[0m eta \u001b[36m0:00:00\u001b[0m\n",
            "\u001b[2K     \u001b[90m━━━━━━━━━━━━━━━━━━━━━━━━━━━━━━━━━━━━━━━━\u001b[0m \u001b[32m45.7/45.7 kB\u001b[0m \u001b[31m5.7 MB/s\u001b[0m eta \u001b[36m0:00:00\u001b[0m\n",
            "\u001b[2K     \u001b[90m━━━━━━━━━━━━━━━━━━━━━━━━━━━━━━━━━━━━━━━━\u001b[0m \u001b[32m58.3/58.3 kB\u001b[0m \u001b[31m7.4 MB/s\u001b[0m eta \u001b[36m0:00:00\u001b[0m\n",
            "\u001b[2K     \u001b[90m━━━━━━━━━━━━━━━━━━━━━━━━━━━━━━━━━━━━━━\u001b[0m \u001b[32m129.9/129.9 kB\u001b[0m \u001b[31m17.2 MB/s\u001b[0m eta \u001b[36m0:00:00\u001b[0m\n",
            "\u001b[2K     \u001b[90m━━━━━━━━━━━━━━━━━━━━━━━━━━━━━━━━━━━━━━━━\u001b[0m \u001b[32m58.3/58.3 kB\u001b[0m \u001b[31m6.9 MB/s\u001b[0m eta \u001b[36m0:00:00\u001b[0m\n",
            "\u001b[2K     \u001b[90m━━━━━━━━━━━━━━━━━━━━━━━━━━━━━━━━━━━━━━\u001b[0m \u001b[32m114.5/114.5 kB\u001b[0m \u001b[31m12.0 MB/s\u001b[0m eta \u001b[36m0:00:00\u001b[0m\n",
            "\u001b[2K     \u001b[90m━━━━━━━━━━━━━━━━━━━━━━━━━━━━━━━━━━━━━━\u001b[0m \u001b[32m268.8/268.8 kB\u001b[0m \u001b[31m30.6 MB/s\u001b[0m eta \u001b[36m0:00:00\u001b[0m\n",
            "\u001b[2K     \u001b[90m━━━━━━━━━━━━━━━━━━━━━━━━━━━━━━━━━━━━━━\u001b[0m \u001b[32m149.6/149.6 kB\u001b[0m \u001b[31m19.5 MB/s\u001b[0m eta \u001b[36m0:00:00\u001b[0m\n",
            "\u001b[2K     \u001b[90m━━━━━━━━━━━━━━━━━━━━━━━━━━━━━━━━━━━━━━━━\u001b[0m \u001b[32m67.0/67.0 kB\u001b[0m \u001b[31m9.1 MB/s\u001b[0m eta \u001b[36m0:00:00\u001b[0m\n",
            "\u001b[2K     \u001b[90m━━━━━━━━━━━━━━━━━━━━━━━━━━━━━━━━━━━━━━━━\u001b[0m \u001b[32m72.5/72.5 kB\u001b[0m \u001b[31m9.2 MB/s\u001b[0m eta \u001b[36m0:00:00\u001b[0m\n",
            "\u001b[?25h  Building wheel for ffmpy (setup.py) ... \u001b[?25l\u001b[?25hdone\n"
          ]
        }
      ]
    },
    {
      "cell_type": "code",
      "source": [
        "import tempfile\n",
        "import gradio as gr\n",
        "from TTService import TTService\n",
        "\n",
        "voices = {\n",
        "  '派蒙': ['models/xiier_vits_zh/paimon6k.json', 'models/xiier_vits_zh/paimon6k_390k.pth', 'character_paimon', 1],\n",
        "  '云飞': ['models/xiier_vits_zh/yunfeimix2.json', 'models/xiier_vits_zh/yunfeimix2_53k.pth', 'character_yunfei', 1],\n",
        "  '神子': ['models/xiier_vits_zh/miko.json', 'models/xiier_vits_zh/miko_139k.pth', 'character_miko', 1],\n",
        "  '钟离': ['models/xiier_vits_zh/zhongli.json', 'models/xiier_vits_zh/zhongli_44k.pth', 'character_zhongli', 1],\n",
        "}\n",
        "\n",
        "characters = list(voices.keys())\n",
        "\n",
        "def transcribe(text: str, character: str):\n",
        "    with tempfile.NamedTemporaryFile(suffix=\".wav\", delete=False) as fp:\n",
        "        tts = TTService(*voices[character])\n",
        "        tts.read_save(text, fp, tts.hps.data.sampling_rate)\n",
        "        return fp.name\n",
        "\n",
        "inputs = [\n",
        "    gr.Textbox(label=\"输入文字\", value=\"\", max_lines=3), \n",
        "    gr.Radio(label=\"角色\", choices=characters, value=\"派蒙\")\n",
        "]\n",
        "\n",
        "outputs = gr.Audio(label=\"输出语音\")\n",
        "\n",
        "demo = gr.Interface(fn=transcribe, inputs=inputs, outputs=outputs)\n",
        "\n",
        "demo.launch()"
      ],
      "metadata": {
        "colab": {
          "base_uri": "https://localhost:8080/",
          "height": 616
        },
        "id": "ArQUMLQzA1Qe",
        "outputId": "9a742dbf-13ad-4657-f78c-c851f93551ad"
      },
      "execution_count": 9,
      "outputs": [
        {
          "output_type": "stream",
          "name": "stdout",
          "text": [
            "Colab notebook detected. To show errors in colab notebook, set debug=True in launch()\n",
            "Note: opening Chrome Inspector may crash demo inside Colab notebooks.\n",
            "\n",
            "To create a public link, set `share=True` in `launch()`.\n"
          ]
        },
        {
          "output_type": "display_data",
          "data": {
            "text/plain": [
              "<IPython.core.display.Javascript object>"
            ],
            "application/javascript": [
              "(async (port, path, width, height, cache, element) => {\n",
              "                        if (!google.colab.kernel.accessAllowed && !cache) {\n",
              "                            return;\n",
              "                        }\n",
              "                        element.appendChild(document.createTextNode(''));\n",
              "                        const url = await google.colab.kernel.proxyPort(port, {cache});\n",
              "\n",
              "                        const external_link = document.createElement('div');\n",
              "                        external_link.innerHTML = `\n",
              "                            <div style=\"font-family: monospace; margin-bottom: 0.5rem\">\n",
              "                                Running on <a href=${new URL(path, url).toString()} target=\"_blank\">\n",
              "                                    https://localhost:${port}${path}\n",
              "                                </a>\n",
              "                            </div>\n",
              "                        `;\n",
              "                        element.appendChild(external_link);\n",
              "\n",
              "                        const iframe = document.createElement('iframe');\n",
              "                        iframe.src = new URL(path, url).toString();\n",
              "                        iframe.height = height;\n",
              "                        iframe.allow = \"autoplay; camera; microphone; clipboard-read; clipboard-write;\"\n",
              "                        iframe.width = width;\n",
              "                        iframe.style.border = 0;\n",
              "                        element.appendChild(iframe);\n",
              "                    })(7860, \"/\", \"100%\", 500, false, window.element)"
            ]
          },
          "metadata": {}
        },
        {
          "output_type": "execute_result",
          "data": {
            "text/plain": []
          },
          "metadata": {},
          "execution_count": 9
        }
      ]
    }
  ]
}